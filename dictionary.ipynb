{
 "cells": [
  {
   "cell_type": "markdown",
   "id": "ce5e07e9",
   "metadata": {},
   "source": [
    "# Creating dictionary containing key as course code and value as course name"
   ]
  },
  {
   "cell_type": "code",
   "execution_count": 25,
   "id": "a09ba1dc",
   "metadata": {},
   "outputs": [
    {
     "data": {
      "text/plain": [
       "{'CSC-101': 'INTRODUCTION TO ICT',\n",
       " 'CSC-102': 'DATA STRUCTURES AND ALGORITHMS',\n",
       " 'CSC-103': 'PROGRAMMING FUNDAMENTALS',\n",
       " 'CSC-104': 'OBJECT ORIENTED PROGRAMMING',\n",
       " 'CSC-201': 'INFORMATION SECURITY',\n",
       " 'CSC-203': 'DATABASE SYSTEMS',\n",
       " 'MAT-101': 'CALCULUS AND ANALYTIC GEOMETRY',\n",
       " 'MAT-104': 'DISCRETE STRUCTURES',\n",
       " 'MAT-201': 'LINEAR ALGEBRA',\n",
       " 'MAT-202': 'DIFFERENTIAL EQUATIONS',\n",
       " 'MAT-203': 'PROBABILITY AND STATISTICS',\n",
       " 'ENG-101': 'ENGLISH COMPOSITION AND COMPREHENSION',\n",
       " 'ENG-102': 'COMMUNICATION AND PRESENTATION SKILLS',\n",
       " 'AIM-301': 'ARTIFICIAL INTELLIGENCE',\n",
       " 'CEN-201': 'DIGITAL LOGIC DESIGN'}"
      ]
     },
     "execution_count": 25,
     "metadata": {},
     "output_type": "execute_result"
    }
   ],
   "source": [
    "dict1={\"CSC-101\":\"INTRODUCTION TO ICT\",\"CSC-102\":\"DATA STRUCTURES AND ALGORITHMS\",\"CSC-103\":\"PROGRAMMING FUNDAMENTALS\",\n",
    "       \"CSC-104\":\"OBJECT ORIENTED PROGRAMMING\",\"CSC-201\":\"INFORMATION SECURITY\",\"CSC-203\":\"DATABASE SYSTEMS\",\n",
    "       \"MAT-101\":\"CALCULUS AND ANALYTIC GEOMETRY\",\"MAT-104\":\"DISCRETE STRUCTURES\",\"MAT-201\":\"LINEAR ALGEBRA\",\n",
    "       \"MAT-202\":\"DIFFERENTIAL EQUATIONS\",\"MAT-203\":\"PROBABILITY AND STATISTICS\",\n",
    "       \"ENG-101\":\"ENGLISH COMPOSITION AND COMPREHENSION\",\"ENG-102\":\"COMMUNICATION AND PRESENTATION SKILLS\",\n",
    "       \"AIM-301\":\"ARTIFICIAL INTELLIGENCE\",\"CEN-201\":\"DIGITAL LOGIC DESIGN\"}\n",
    "dict1"
   ]
  },
  {
   "cell_type": "markdown",
   "id": "0bc4d234",
   "metadata": {},
   "source": [
    "# Looping (traversing) every items inside dict1 with index"
   ]
  },
  {
   "cell_type": "code",
   "execution_count": 26,
   "id": "9aebbb68",
   "metadata": {},
   "outputs": [
    {
     "name": "stdout",
     "output_type": "stream",
     "text": [
      "\n",
      " 0 ('CSC-101', 'INTRODUCTION TO ICT')\n",
      "\n",
      " 1 ('CSC-102', 'DATA STRUCTURES AND ALGORITHMS')\n",
      "\n",
      " 2 ('CSC-103', 'PROGRAMMING FUNDAMENTALS')\n",
      "\n",
      " 3 ('CSC-104', 'OBJECT ORIENTED PROGRAMMING')\n",
      "\n",
      " 4 ('CSC-201', 'INFORMATION SECURITY')\n",
      "\n",
      " 5 ('CSC-203', 'DATABASE SYSTEMS')\n",
      "\n",
      " 6 ('MAT-101', 'CALCULUS AND ANALYTIC GEOMETRY')\n",
      "\n",
      " 7 ('MAT-104', 'DISCRETE STRUCTURES')\n",
      "\n",
      " 8 ('MAT-201', 'LINEAR ALGEBRA')\n",
      "\n",
      " 9 ('MAT-202', 'DIFFERENTIAL EQUATIONS')\n",
      "\n",
      " 10 ('MAT-203', 'PROBABILITY AND STATISTICS')\n",
      "\n",
      " 11 ('ENG-101', 'ENGLISH COMPOSITION AND COMPREHENSION')\n",
      "\n",
      " 12 ('ENG-102', 'COMMUNICATION AND PRESENTATION SKILLS')\n",
      "\n",
      " 13 ('AIM-301', 'ARTIFICIAL INTELLIGENCE')\n",
      "\n",
      " 14 ('CEN-201', 'DIGITAL LOGIC DESIGN')\n"
     ]
    }
   ],
   "source": [
    "for index,value in enumerate(dict1.items()):\n",
    "    print(\"\\n\",index,value)\n",
    "    "
   ]
  },
  {
   "cell_type": "markdown",
   "id": "c3720ef8",
   "metadata": {},
   "source": [
    "# Adding key-value pairs to a dictionary"
   ]
  },
  {
   "cell_type": "code",
   "execution_count": 27,
   "id": "f1bf1316",
   "metadata": {},
   "outputs": [
    {
     "data": {
      "text/plain": [
       "{'CSC-101': 'INTRODUCTION TO ICT',\n",
       " 'CSC-102': 'DATA STRUCTURES AND ALGORITHMS',\n",
       " 'CSC-103': 'PROGRAMMING FUNDAMENTALS',\n",
       " 'CSC-104': 'OBJECT ORIENTED PROGRAMMING',\n",
       " 'CSC-201': 'INFORMATION SECURITY',\n",
       " 'CSC-203': 'DATABASE SYSTEMS',\n",
       " 'MAT-101': 'CALCULUS AND ANALYTIC GEOMETRY',\n",
       " 'MAT-104': 'DISCRETE STRUCTURES',\n",
       " 'MAT-201': 'LINEAR ALGEBRA',\n",
       " 'MAT-202': 'DIFFERENTIAL EQUATIONS',\n",
       " 'MAT-203': 'PROBABILITY AND STATISTICS',\n",
       " 'ENG-101': 'ENGLISH COMPOSITION AND COMPREHENSION',\n",
       " 'ENG-102': 'COMMUNICATION AND PRESENTATION SKILLS',\n",
       " 'AIM-301': 'ARTIFICIAL INTELLIGENCE',\n",
       " 'CEN-201': 'DIGITAL LOGIC DESIGN',\n",
       " 'CSC-105': 'IT'}"
      ]
     },
     "execution_count": 27,
     "metadata": {},
     "output_type": "execute_result"
    }
   ],
   "source": [
    "dict1[\"CSC-105\"]=\"IT\"\n",
    "dict1"
   ]
  },
  {
   "cell_type": "markdown",
   "id": "990bf396",
   "metadata": {},
   "source": [
    "# Deleting the value from a dictionary with the specified key"
   ]
  },
  {
   "cell_type": "code",
   "execution_count": 28,
   "id": "17aff399",
   "metadata": {},
   "outputs": [
    {
     "data": {
      "text/plain": [
       "{'CSC-101': 'INTRODUCTION TO ICT',\n",
       " 'CSC-102': 'DATA STRUCTURES AND ALGORITHMS',\n",
       " 'CSC-103': 'PROGRAMMING FUNDAMENTALS',\n",
       " 'CSC-104': 'OBJECT ORIENTED PROGRAMMING',\n",
       " 'CSC-201': 'INFORMATION SECURITY',\n",
       " 'CSC-203': 'DATABASE SYSTEMS',\n",
       " 'MAT-101': 'CALCULUS AND ANALYTIC GEOMETRY',\n",
       " 'MAT-104': 'DISCRETE STRUCTURES',\n",
       " 'MAT-201': 'LINEAR ALGEBRA',\n",
       " 'MAT-202': 'DIFFERENTIAL EQUATIONS',\n",
       " 'MAT-203': 'PROBABILITY AND STATISTICS',\n",
       " 'ENG-101': 'ENGLISH COMPOSITION AND COMPREHENSION',\n",
       " 'ENG-102': 'COMMUNICATION AND PRESENTATION SKILLS',\n",
       " 'AIM-301': 'ARTIFICIAL INTELLIGENCE',\n",
       " 'CEN-201': 'DIGITAL LOGIC DESIGN'}"
      ]
     },
     "execution_count": 28,
     "metadata": {},
     "output_type": "execute_result"
    }
   ],
   "source": [
    "dict1.pop(\"CSC-105\")\n",
    "dict1"
   ]
  },
  {
   "cell_type": "markdown",
   "id": "c26a272e",
   "metadata": {},
   "source": [
    "# Deleting the last item from dictionary"
   ]
  },
  {
   "cell_type": "code",
   "execution_count": 30,
   "id": "be674a1a",
   "metadata": {},
   "outputs": [
    {
     "data": {
      "text/plain": [
       "{'CSC-101': 'INTRODUCTION TO ICT',\n",
       " 'CSC-102': 'DATA STRUCTURES AND ALGORITHMS',\n",
       " 'CSC-103': 'PROGRAMMING FUNDAMENTALS',\n",
       " 'CSC-104': 'OBJECT ORIENTED PROGRAMMING',\n",
       " 'CSC-201': 'INFORMATION SECURITY',\n",
       " 'CSC-203': 'DATABASE SYSTEMS',\n",
       " 'MAT-101': 'CALCULUS AND ANALYTIC GEOMETRY',\n",
       " 'MAT-104': 'DISCRETE STRUCTURES',\n",
       " 'MAT-201': 'LINEAR ALGEBRA',\n",
       " 'MAT-202': 'DIFFERENTIAL EQUATIONS',\n",
       " 'MAT-203': 'PROBABILITY AND STATISTICS',\n",
       " 'ENG-101': 'ENGLISH COMPOSITION AND COMPREHENSION',\n",
       " 'ENG-102': 'COMMUNICATION AND PRESENTATION SKILLS',\n",
       " 'AIM-301': 'ARTIFICIAL INTELLIGENCE'}"
      ]
     },
     "execution_count": 30,
     "metadata": {},
     "output_type": "execute_result"
    }
   ],
   "source": [
    "dict1.popitem( )\n",
    "dict1"
   ]
  },
  {
   "cell_type": "markdown",
   "id": "83a75381",
   "metadata": {},
   "source": [
    "# Access element(value) using key"
   ]
  },
  {
   "cell_type": "code",
   "execution_count": 31,
   "id": "8d16dbf2",
   "metadata": {},
   "outputs": [
    {
     "data": {
      "text/plain": [
       "'INTRODUCTION TO ICT'"
      ]
     },
     "execution_count": 31,
     "metadata": {},
     "output_type": "execute_result"
    }
   ],
   "source": [
    "dict1[\"CSC-101\"]"
   ]
  },
  {
   "cell_type": "code",
   "execution_count": 32,
   "id": "7565d2f5",
   "metadata": {},
   "outputs": [
    {
     "data": {
      "text/plain": [
       "'INTRODUCTION TO ICT'"
      ]
     },
     "execution_count": 32,
     "metadata": {},
     "output_type": "execute_result"
    }
   ],
   "source": [
    "dict1.get(\"CSC-101\")"
   ]
  },
  {
   "cell_type": "markdown",
   "id": "884377ec",
   "metadata": {},
   "source": [
    "# Get all the keys from Dictionary"
   ]
  },
  {
   "cell_type": "code",
   "execution_count": 33,
   "id": "8142e971",
   "metadata": {},
   "outputs": [
    {
     "data": {
      "text/plain": [
       "dict_keys(['CSC-101', 'CSC-102', 'CSC-103', 'CSC-104', 'CSC-201', 'CSC-203', 'MAT-101', 'MAT-104', 'MAT-201', 'MAT-202', 'MAT-203', 'ENG-101', 'ENG-102', 'AIM-301'])"
      ]
     },
     "execution_count": 33,
     "metadata": {},
     "output_type": "execute_result"
    }
   ],
   "source": [
    "dict1.keys()"
   ]
  },
  {
   "cell_type": "markdown",
   "id": "209a3fec",
   "metadata": {},
   "source": [
    "# Get all the values from Dictionary"
   ]
  },
  {
   "cell_type": "code",
   "execution_count": 34,
   "id": "821cd74c",
   "metadata": {},
   "outputs": [
    {
     "data": {
      "text/plain": [
       "dict_values(['INTRODUCTION TO ICT', 'DATA STRUCTURES AND ALGORITHMS', 'PROGRAMMING FUNDAMENTALS', 'OBJECT ORIENTED PROGRAMMING', 'INFORMATION SECURITY', 'DATABASE SYSTEMS', 'CALCULUS AND ANALYTIC GEOMETRY', 'DISCRETE STRUCTURES', 'LINEAR ALGEBRA', 'DIFFERENTIAL EQUATIONS', 'PROBABILITY AND STATISTICS', 'ENGLISH COMPOSITION AND COMPREHENSION', 'COMMUNICATION AND PRESENTATION SKILLS', 'ARTIFICIAL INTELLIGENCE'])"
      ]
     },
     "execution_count": 34,
     "metadata": {},
     "output_type": "execute_result"
    }
   ],
   "source": [
    "dict1.values()"
   ]
  },
  {
   "cell_type": "markdown",
   "id": "77cbe545",
   "metadata": {},
   "source": [
    "# Get all the key-value pairs from Dictionary"
   ]
  },
  {
   "cell_type": "code",
   "execution_count": 35,
   "id": "b227d42a",
   "metadata": {},
   "outputs": [
    {
     "data": {
      "text/plain": [
       "dict_items([('CSC-101', 'INTRODUCTION TO ICT'), ('CSC-102', 'DATA STRUCTURES AND ALGORITHMS'), ('CSC-103', 'PROGRAMMING FUNDAMENTALS'), ('CSC-104', 'OBJECT ORIENTED PROGRAMMING'), ('CSC-201', 'INFORMATION SECURITY'), ('CSC-203', 'DATABASE SYSTEMS'), ('MAT-101', 'CALCULUS AND ANALYTIC GEOMETRY'), ('MAT-104', 'DISCRETE STRUCTURES'), ('MAT-201', 'LINEAR ALGEBRA'), ('MAT-202', 'DIFFERENTIAL EQUATIONS'), ('MAT-203', 'PROBABILITY AND STATISTICS'), ('ENG-101', 'ENGLISH COMPOSITION AND COMPREHENSION'), ('ENG-102', 'COMMUNICATION AND PRESENTATION SKILLS'), ('AIM-301', 'ARTIFICIAL INTELLIGENCE')])"
      ]
     },
     "execution_count": 35,
     "metadata": {},
     "output_type": "execute_result"
    }
   ],
   "source": [
    "dict1.items()"
   ]
  },
  {
   "cell_type": "markdown",
   "id": "a13cddb3",
   "metadata": {},
   "source": [
    "# updating values of dictionary if value not present then it Insert values"
   ]
  },
  {
   "cell_type": "code",
   "execution_count": 38,
   "id": "15151d4e",
   "metadata": {},
   "outputs": [
    {
     "data": {
      "text/plain": [
       "{'CSC-101': 'INTRODUCTION TO ICT',\n",
       " 'CSC-102': 'DATA STRUCTURES AND ALGORITHMS',\n",
       " 'CSC-103': 'PROGRAMMING FUNDAMENTALS',\n",
       " 'CSC-104': 'OBJECT ORIENTED PROGRAMMING',\n",
       " 'CSC-201': 'INFORMATION SECURITY',\n",
       " 'CSC-203': 'DATABASE SYSTEMS',\n",
       " 'MAT-101': 'CALCULUS AND ANALYTIC GEOMETRY',\n",
       " 'MAT-104': 'DISCRETE STRUCTURES',\n",
       " 'MAT-201': 'LINEAR ALGEBRA',\n",
       " 'MAT-202': 'DIFFERENTIAL EQUATIONS',\n",
       " 'MAT-203': 'PROBABILITY AND STATISTICS',\n",
       " 'ENG-101': 'ENGLISH COMPOSITION AND COMPREHENSION',\n",
       " 'ENG-102': 'COMMUNICATION AND PRESENTATION SKILLS',\n",
       " 'AIM-301': 'ARTIFICIAL INTELLIGENCE',\n",
       " 'GEN-101': 'GAN'}"
      ]
     },
     "execution_count": 38,
     "metadata": {},
     "output_type": "execute_result"
    }
   ],
   "source": [
    "dict1.update({\"GEN-101\":\"GAN\"})\n",
    "dict1"
   ]
  },
  {
   "cell_type": "markdown",
   "id": "583e387d",
   "metadata": {},
   "source": [
    "# Copy a dictionary"
   ]
  },
  {
   "cell_type": "code",
   "execution_count": 39,
   "id": "ba0f580c",
   "metadata": {},
   "outputs": [
    {
     "data": {
      "text/plain": [
       "{'CSC-101': 'INTRODUCTION TO ICT',\n",
       " 'CSC-102': 'DATA STRUCTURES AND ALGORITHMS',\n",
       " 'CSC-103': 'PROGRAMMING FUNDAMENTALS',\n",
       " 'CSC-104': 'OBJECT ORIENTED PROGRAMMING',\n",
       " 'CSC-201': 'INFORMATION SECURITY',\n",
       " 'CSC-203': 'DATABASE SYSTEMS',\n",
       " 'MAT-101': 'CALCULUS AND ANALYTIC GEOMETRY',\n",
       " 'MAT-104': 'DISCRETE STRUCTURES',\n",
       " 'MAT-201': 'LINEAR ALGEBRA',\n",
       " 'MAT-202': 'DIFFERENTIAL EQUATIONS',\n",
       " 'MAT-203': 'PROBABILITY AND STATISTICS',\n",
       " 'ENG-101': 'ENGLISH COMPOSITION AND COMPREHENSION',\n",
       " 'ENG-102': 'COMMUNICATION AND PRESENTATION SKILLS',\n",
       " 'AIM-301': 'ARTIFICIAL INTELLIGENCE',\n",
       " 'GEN-101': 'GAN'}"
      ]
     },
     "execution_count": 39,
     "metadata": {},
     "output_type": "execute_result"
    }
   ],
   "source": [
    "a=dict1.copy()\n",
    "a"
   ]
  },
  {
   "cell_type": "markdown",
   "id": "850cf722",
   "metadata": {},
   "source": [
    "# Create a dictionary with n keys, all with the predefined value "
   ]
  },
  {
   "cell_type": "code",
   "execution_count": 40,
   "id": "695416cf",
   "metadata": {},
   "outputs": [
    {
     "name": "stdout",
     "output_type": "stream",
     "text": [
      "{'key1': 0, 'key2': 0, 'key3': 0}\n"
     ]
    }
   ],
   "source": [
    "x = ('key1', 'key2', 'key3')\n",
    "y = 0\n",
    "\n",
    "newdict = dict.fromkeys(x, y)\n",
    "\n",
    "print(newdict)"
   ]
  },
  {
   "cell_type": "markdown",
   "id": "4cd563fb",
   "metadata": {},
   "source": [
    "# Get the value of the \"key\" if the \"key\" item does not exist, insert \"key\" with the value \"x\""
   ]
  },
  {
   "cell_type": "code",
   "execution_count": 42,
   "id": "5487fa59",
   "metadata": {},
   "outputs": [
    {
     "data": {
      "text/plain": [
       "{'brand': 'Ford', 'model': 'Mustang', 'year': 1964, 'color': 'white'}"
      ]
     },
     "execution_count": 42,
     "metadata": {},
     "output_type": "execute_result"
    }
   ],
   "source": [
    "newdict1 = {\"brand\": \"Ford\",\"model\": \"Mustang\",\"year\": 1964}\n",
    "\n",
    "x = newdict1.setdefault(\"color\", \"white\")\n",
    "\n",
    "newdict1"
   ]
  },
  {
   "cell_type": "markdown",
   "id": "93179eac",
   "metadata": {},
   "source": [
    "# Removes all the elements from the Dictionary"
   ]
  },
  {
   "cell_type": "code",
   "execution_count": 43,
   "id": "243fd52a",
   "metadata": {},
   "outputs": [],
   "source": [
    "dict1.clear()"
   ]
  },
  {
   "cell_type": "code",
   "execution_count": 44,
   "id": "d4551684",
   "metadata": {},
   "outputs": [
    {
     "data": {
      "text/plain": [
       "{}"
      ]
     },
     "execution_count": 44,
     "metadata": {},
     "output_type": "execute_result"
    }
   ],
   "source": [
    "dict1"
   ]
  },
  {
   "cell_type": "markdown",
   "id": "5333b71c",
   "metadata": {},
   "source": [
    "# Creating dictionary containing key as course name and value as course mark"
   ]
  },
  {
   "cell_type": "code",
   "execution_count": 64,
   "id": "b7457f0f",
   "metadata": {},
   "outputs": [
    {
     "data": {
      "text/plain": [
       "{'INTRODUCTION TO ICT': 79,\n",
       " 'DATA STRUCTURES AND ALGORITHMS': 85,\n",
       " 'PROGRAMMING FUNDAMENTALS': 74,\n",
       " 'OBJECT ORIENTED PROGRAMMING': 70,\n",
       " 'INFORMATION SECURITY': 77,\n",
       " 'DATABASE SYSTEMS': 70,\n",
       " 'CALCULUS AND ANALYTIC GEOMETRY': 84,\n",
       " 'DISCRETE STRUCTURES': 65,\n",
       " 'LINEAR ALGEBRA': 84,\n",
       " 'DIFFERENTIAL EQUATIONS': 80,\n",
       " 'PROBABILITY AND STATISTICS': 72,\n",
       " 'ENGLISH COMPOSITION AND COMPREHENSION': 72,\n",
       " 'COMMUNICATION AND PRESENTATION SKILLS': 67,\n",
       " 'ARTIFICIAL INTELLIGENCE': 81,\n",
       " 'DIGITAL LOGIC DESIGN': 84}"
      ]
     },
     "execution_count": 64,
     "metadata": {},
     "output_type": "execute_result"
    }
   ],
   "source": [
    "dict2={\"INTRODUCTION TO ICT\":79,\"DATA STRUCTURES AND ALGORITHMS\":85,\"PROGRAMMING FUNDAMENTALS\":74,\n",
    "       \"OBJECT ORIENTED PROGRAMMING\":70,\"INFORMATION SECURITY\":77,\"DATABASE SYSTEMS\":70,\n",
    "       \"CALCULUS AND ANALYTIC GEOMETRY\":84,\"DISCRETE STRUCTURES\":65,\"LINEAR ALGEBRA\":84,\n",
    "       \"DIFFERENTIAL EQUATIONS\":80,\"PROBABILITY AND STATISTICS\":72,\n",
    "       \"ENGLISH COMPOSITION AND COMPREHENSION\":72,\"COMMUNICATION AND PRESENTATION SKILLS\":67,\n",
    "       \"ARTIFICIAL INTELLIGENCE\":81,\"DIGITAL LOGIC DESIGN\":84}\n",
    "dict2"
   ]
  },
  {
   "cell_type": "markdown",
   "id": "27f67a37",
   "metadata": {},
   "source": [
    "# Looping (traversing) every items inside dict2 with index"
   ]
  },
  {
   "cell_type": "code",
   "execution_count": 65,
   "id": "47f7aa57",
   "metadata": {},
   "outputs": [
    {
     "name": "stdout",
     "output_type": "stream",
     "text": [
      "\n",
      " 0 ('INTRODUCTION TO ICT', 79)\n",
      "\n",
      " 1 ('DATA STRUCTURES AND ALGORITHMS', 85)\n",
      "\n",
      " 2 ('PROGRAMMING FUNDAMENTALS', 74)\n",
      "\n",
      " 3 ('OBJECT ORIENTED PROGRAMMING', 70)\n",
      "\n",
      " 4 ('INFORMATION SECURITY', 77)\n",
      "\n",
      " 5 ('DATABASE SYSTEMS', 70)\n",
      "\n",
      " 6 ('CALCULUS AND ANALYTIC GEOMETRY', 84)\n",
      "\n",
      " 7 ('DISCRETE STRUCTURES', 65)\n",
      "\n",
      " 8 ('LINEAR ALGEBRA', 84)\n",
      "\n",
      " 9 ('DIFFERENTIAL EQUATIONS', 80)\n",
      "\n",
      " 10 ('PROBABILITY AND STATISTICS', 72)\n",
      "\n",
      " 11 ('ENGLISH COMPOSITION AND COMPREHENSION', 72)\n",
      "\n",
      " 12 ('COMMUNICATION AND PRESENTATION SKILLS', 67)\n",
      "\n",
      " 13 ('ARTIFICIAL INTELLIGENCE', 81)\n",
      "\n",
      " 14 ('DIGITAL LOGIC DESIGN', 84)\n"
     ]
    }
   ],
   "source": [
    "for index,value in enumerate(dict2.items()):\n",
    "    print(\"\\n\",index,value)"
   ]
  },
  {
   "cell_type": "markdown",
   "id": "f4316f0f",
   "metadata": {},
   "source": [
    "# Adding key-value pairs to a dictionary"
   ]
  },
  {
   "cell_type": "code",
   "execution_count": 66,
   "id": "7300cb14",
   "metadata": {},
   "outputs": [
    {
     "data": {
      "text/plain": [
       "{'INTRODUCTION TO ICT': 79,\n",
       " 'DATA STRUCTURES AND ALGORITHMS': 85,\n",
       " 'PROGRAMMING FUNDAMENTALS': 74,\n",
       " 'OBJECT ORIENTED PROGRAMMING': 70,\n",
       " 'INFORMATION SECURITY': 77,\n",
       " 'DATABASE SYSTEMS': 70,\n",
       " 'CALCULUS AND ANALYTIC GEOMETRY': 84,\n",
       " 'DISCRETE STRUCTURES': 65,\n",
       " 'LINEAR ALGEBRA': 84,\n",
       " 'DIFFERENTIAL EQUATIONS': 80,\n",
       " 'PROBABILITY AND STATISTICS': 72,\n",
       " 'ENGLISH COMPOSITION AND COMPREHENSION': 72,\n",
       " 'COMMUNICATION AND PRESENTATION SKILLS': 67,\n",
       " 'ARTIFICIAL INTELLIGENCE': 81,\n",
       " 'DIGITAL LOGIC DESIGN': 84,\n",
       " 'IT': 86}"
      ]
     },
     "execution_count": 66,
     "metadata": {},
     "output_type": "execute_result"
    }
   ],
   "source": [
    "dict2[\"IT\"]=86\n",
    "dict2"
   ]
  },
  {
   "cell_type": "markdown",
   "id": "3180dbdc",
   "metadata": {},
   "source": [
    "# Deleting the value from a dictionary with the specified key"
   ]
  },
  {
   "cell_type": "code",
   "execution_count": 67,
   "id": "a17baba1",
   "metadata": {},
   "outputs": [
    {
     "data": {
      "text/plain": [
       "{'INTRODUCTION TO ICT': 79,\n",
       " 'DATA STRUCTURES AND ALGORITHMS': 85,\n",
       " 'PROGRAMMING FUNDAMENTALS': 74,\n",
       " 'OBJECT ORIENTED PROGRAMMING': 70,\n",
       " 'INFORMATION SECURITY': 77,\n",
       " 'DATABASE SYSTEMS': 70,\n",
       " 'CALCULUS AND ANALYTIC GEOMETRY': 84,\n",
       " 'DISCRETE STRUCTURES': 65,\n",
       " 'LINEAR ALGEBRA': 84,\n",
       " 'DIFFERENTIAL EQUATIONS': 80,\n",
       " 'PROBABILITY AND STATISTICS': 72,\n",
       " 'ENGLISH COMPOSITION AND COMPREHENSION': 72,\n",
       " 'COMMUNICATION AND PRESENTATION SKILLS': 67,\n",
       " 'ARTIFICIAL INTELLIGENCE': 81,\n",
       " 'DIGITAL LOGIC DESIGN': 84}"
      ]
     },
     "execution_count": 67,
     "metadata": {},
     "output_type": "execute_result"
    }
   ],
   "source": [
    "dict2.pop(\"IT\")\n",
    "dict2"
   ]
  },
  {
   "cell_type": "markdown",
   "id": "3b69cae1",
   "metadata": {},
   "source": [
    "# Deleting the last item from dictionary"
   ]
  },
  {
   "cell_type": "code",
   "execution_count": 68,
   "id": "2da554b1",
   "metadata": {},
   "outputs": [
    {
     "data": {
      "text/plain": [
       "{'INTRODUCTION TO ICT': 79,\n",
       " 'DATA STRUCTURES AND ALGORITHMS': 85,\n",
       " 'PROGRAMMING FUNDAMENTALS': 74,\n",
       " 'OBJECT ORIENTED PROGRAMMING': 70,\n",
       " 'INFORMATION SECURITY': 77,\n",
       " 'DATABASE SYSTEMS': 70,\n",
       " 'CALCULUS AND ANALYTIC GEOMETRY': 84,\n",
       " 'DISCRETE STRUCTURES': 65,\n",
       " 'LINEAR ALGEBRA': 84,\n",
       " 'DIFFERENTIAL EQUATIONS': 80,\n",
       " 'PROBABILITY AND STATISTICS': 72,\n",
       " 'ENGLISH COMPOSITION AND COMPREHENSION': 72,\n",
       " 'COMMUNICATION AND PRESENTATION SKILLS': 67,\n",
       " 'ARTIFICIAL INTELLIGENCE': 81}"
      ]
     },
     "execution_count": 68,
     "metadata": {},
     "output_type": "execute_result"
    }
   ],
   "source": [
    "dict2.popitem( )\n",
    "dict2"
   ]
  },
  {
   "cell_type": "markdown",
   "id": "51f417b5",
   "metadata": {},
   "source": [
    "# Access element(value) using key"
   ]
  },
  {
   "cell_type": "code",
   "execution_count": 69,
   "id": "3ec4b1fd",
   "metadata": {},
   "outputs": [
    {
     "data": {
      "text/plain": [
       "70"
      ]
     },
     "execution_count": 69,
     "metadata": {},
     "output_type": "execute_result"
    }
   ],
   "source": [
    "dict2[\"DATABASE SYSTEMS\"]"
   ]
  },
  {
   "cell_type": "code",
   "execution_count": 70,
   "id": "2cbb8850",
   "metadata": {},
   "outputs": [
    {
     "data": {
      "text/plain": [
       "70"
      ]
     },
     "execution_count": 70,
     "metadata": {},
     "output_type": "execute_result"
    }
   ],
   "source": [
    "dict2.get(\"DATABASE SYSTEMS\")"
   ]
  },
  {
   "cell_type": "markdown",
   "id": "9343e30a",
   "metadata": {},
   "source": [
    "# Get all the keys from Dictionary"
   ]
  },
  {
   "cell_type": "code",
   "execution_count": 71,
   "id": "80d7701a",
   "metadata": {},
   "outputs": [
    {
     "data": {
      "text/plain": [
       "dict_keys(['INTRODUCTION TO ICT', 'DATA STRUCTURES AND ALGORITHMS', 'PROGRAMMING FUNDAMENTALS', 'OBJECT ORIENTED PROGRAMMING', 'INFORMATION SECURITY', 'DATABASE SYSTEMS', 'CALCULUS AND ANALYTIC GEOMETRY', 'DISCRETE STRUCTURES', 'LINEAR ALGEBRA', 'DIFFERENTIAL EQUATIONS', 'PROBABILITY AND STATISTICS', 'ENGLISH COMPOSITION AND COMPREHENSION', 'COMMUNICATION AND PRESENTATION SKILLS', 'ARTIFICIAL INTELLIGENCE'])"
      ]
     },
     "execution_count": 71,
     "metadata": {},
     "output_type": "execute_result"
    }
   ],
   "source": [
    "dict2.keys()"
   ]
  },
  {
   "cell_type": "markdown",
   "id": "1813e5da",
   "metadata": {},
   "source": [
    "# Get all the values from Dictionary"
   ]
  },
  {
   "cell_type": "code",
   "execution_count": 72,
   "id": "c333575a",
   "metadata": {},
   "outputs": [
    {
     "data": {
      "text/plain": [
       "dict_values([79, 85, 74, 70, 77, 70, 84, 65, 84, 80, 72, 72, 67, 81])"
      ]
     },
     "execution_count": 72,
     "metadata": {},
     "output_type": "execute_result"
    }
   ],
   "source": [
    "dict2.values()"
   ]
  },
  {
   "cell_type": "markdown",
   "id": "86f4d554",
   "metadata": {},
   "source": [
    "# Get all the key-value pairs from Dictionary"
   ]
  },
  {
   "cell_type": "code",
   "execution_count": 73,
   "id": "0c51602e",
   "metadata": {},
   "outputs": [
    {
     "data": {
      "text/plain": [
       "dict_items([('INTRODUCTION TO ICT', 79), ('DATA STRUCTURES AND ALGORITHMS', 85), ('PROGRAMMING FUNDAMENTALS', 74), ('OBJECT ORIENTED PROGRAMMING', 70), ('INFORMATION SECURITY', 77), ('DATABASE SYSTEMS', 70), ('CALCULUS AND ANALYTIC GEOMETRY', 84), ('DISCRETE STRUCTURES', 65), ('LINEAR ALGEBRA', 84), ('DIFFERENTIAL EQUATIONS', 80), ('PROBABILITY AND STATISTICS', 72), ('ENGLISH COMPOSITION AND COMPREHENSION', 72), ('COMMUNICATION AND PRESENTATION SKILLS', 67), ('ARTIFICIAL INTELLIGENCE', 81)])"
      ]
     },
     "execution_count": 73,
     "metadata": {},
     "output_type": "execute_result"
    }
   ],
   "source": [
    "dict2.items()"
   ]
  },
  {
   "cell_type": "markdown",
   "id": "92621956",
   "metadata": {},
   "source": [
    "# updating values of dictionary if value not present then it Insert values"
   ]
  },
  {
   "cell_type": "code",
   "execution_count": 74,
   "id": "91ae606c",
   "metadata": {},
   "outputs": [
    {
     "data": {
      "text/plain": [
       "{'INTRODUCTION TO ICT': 79,\n",
       " 'DATA STRUCTURES AND ALGORITHMS': 85,\n",
       " 'PROGRAMMING FUNDAMENTALS': 74,\n",
       " 'OBJECT ORIENTED PROGRAMMING': 70,\n",
       " 'INFORMATION SECURITY': 77,\n",
       " 'DATABASE SYSTEMS': 70,\n",
       " 'CALCULUS AND ANALYTIC GEOMETRY': 84,\n",
       " 'DISCRETE STRUCTURES': 65,\n",
       " 'LINEAR ALGEBRA': 84,\n",
       " 'DIFFERENTIAL EQUATIONS': 80,\n",
       " 'PROBABILITY AND STATISTICS': 72,\n",
       " 'ENGLISH COMPOSITION AND COMPREHENSION': 72,\n",
       " 'COMMUNICATION AND PRESENTATION SKILLS': 67,\n",
       " 'ARTIFICIAL INTELLIGENCE': 81,\n",
       " 'ANN': 74}"
      ]
     },
     "execution_count": 74,
     "metadata": {},
     "output_type": "execute_result"
    }
   ],
   "source": [
    "dict2.update({\"ANN\":74})\n",
    "dict2"
   ]
  },
  {
   "cell_type": "markdown",
   "id": "0a7d75a0",
   "metadata": {},
   "source": [
    "# Copy a dictionary"
   ]
  },
  {
   "cell_type": "code",
   "execution_count": 75,
   "id": "de4b11c9",
   "metadata": {},
   "outputs": [
    {
     "data": {
      "text/plain": [
       "{'INTRODUCTION TO ICT': 79,\n",
       " 'DATA STRUCTURES AND ALGORITHMS': 85,\n",
       " 'PROGRAMMING FUNDAMENTALS': 74,\n",
       " 'OBJECT ORIENTED PROGRAMMING': 70,\n",
       " 'INFORMATION SECURITY': 77,\n",
       " 'DATABASE SYSTEMS': 70,\n",
       " 'CALCULUS AND ANALYTIC GEOMETRY': 84,\n",
       " 'DISCRETE STRUCTURES': 65,\n",
       " 'LINEAR ALGEBRA': 84,\n",
       " 'DIFFERENTIAL EQUATIONS': 80,\n",
       " 'PROBABILITY AND STATISTICS': 72,\n",
       " 'ENGLISH COMPOSITION AND COMPREHENSION': 72,\n",
       " 'COMMUNICATION AND PRESENTATION SKILLS': 67,\n",
       " 'ARTIFICIAL INTELLIGENCE': 81,\n",
       " 'ANN': 74}"
      ]
     },
     "execution_count": 75,
     "metadata": {},
     "output_type": "execute_result"
    }
   ],
   "source": [
    "b=dict2.copy()\n",
    "b"
   ]
  },
  {
   "cell_type": "markdown",
   "id": "08200261",
   "metadata": {},
   "source": [
    "# Create a dictionary with n keys, all with the predefined value "
   ]
  },
  {
   "cell_type": "code",
   "execution_count": 76,
   "id": "360259ec",
   "metadata": {},
   "outputs": [
    {
     "name": "stdout",
     "output_type": "stream",
     "text": [
      "{'key1': 0, 'key2': 0, 'key3': 0}\n"
     ]
    }
   ],
   "source": [
    "x = ('key1', 'key2', 'key3')\n",
    "y = 0\n",
    "\n",
    "newdict2 = dict.fromkeys(x, y)\n",
    "\n",
    "print(newdict2)"
   ]
  },
  {
   "cell_type": "markdown",
   "id": "21613432",
   "metadata": {},
   "source": [
    "# Get the value of the \"key\" if the \"key\" item does not exist, insert \"key\" with the value \"x\""
   ]
  },
  {
   "cell_type": "code",
   "execution_count": 77,
   "id": "131bafe0",
   "metadata": {},
   "outputs": [
    {
     "data": {
      "text/plain": [
       "{'brand': 20, 'model': 2012, 'year': 1964, 'rating': 30}"
      ]
     },
     "execution_count": 77,
     "metadata": {},
     "output_type": "execute_result"
    }
   ],
   "source": [
    "newdict3 = {\"brand\": 20,\"model\":2012,\"year\": 1964}\n",
    "\n",
    "x = newdict3.setdefault(\"rating\", 30)\n",
    "\n",
    "newdict3"
   ]
  },
  {
   "cell_type": "markdown",
   "id": "345504ff",
   "metadata": {},
   "source": [
    "# Removes all the elements from the Dictionary"
   ]
  },
  {
   "cell_type": "code",
   "execution_count": 78,
   "id": "1d0b45c2",
   "metadata": {},
   "outputs": [],
   "source": [
    "dict2.clear()"
   ]
  },
  {
   "cell_type": "code",
   "execution_count": 79,
   "id": "cfefbe14",
   "metadata": {},
   "outputs": [
    {
     "data": {
      "text/plain": [
       "{}"
      ]
     },
     "execution_count": 79,
     "metadata": {},
     "output_type": "execute_result"
    }
   ],
   "source": [
    "dict2"
   ]
  }
 ],
 "metadata": {
  "kernelspec": {
   "display_name": "Python 3 (ipykernel)",
   "language": "python",
   "name": "python3"
  },
  "language_info": {
   "codemirror_mode": {
    "name": "ipython",
    "version": 3
   },
   "file_extension": ".py",
   "mimetype": "text/x-python",
   "name": "python",
   "nbconvert_exporter": "python",
   "pygments_lexer": "ipython3",
   "version": "3.9.7"
  }
 },
 "nbformat": 4,
 "nbformat_minor": 5
}
